{
 "cells": [
  {
   "cell_type": "code",
   "execution_count": 1,
   "id": "f63b264a",
   "metadata": {},
   "outputs": [],
   "source": [
    "import torch\n",
    "import torch.nn as nn\n",
    "import numpy as np\n",
    "from datasets import Dataset"
   ]
  },
  {
   "cell_type": "code",
   "execution_count": 2,
   "id": "91fb6166",
   "metadata": {},
   "outputs": [],
   "source": [
    "rng = np.random.default_rng(seed=2022)\n",
    "train_size = 50\n",
    "test_size = 10\n",
    "#train_size = train_size+test_size\n",
    "\n",
    "X_0 = {\"loc\":(1,1), \"scale\":1}\n",
    "X_1 = {\"loc\":(-1,1), \"scale\":2}\n",
    "eps = {\"loc\":(0,0), \"scale\":0.2}\n",
    "\n",
    "f_transform = np.array([[ -1,  0],\n",
    "                        [0.5,0.5]])\n",
    "\n",
    "#device = \"cuda\" if torch.cuda.is_available() else \"cpu\"\n",
    "#device = \"cpu\""
   ]
  },
  {
   "cell_type": "code",
   "execution_count": 3,
   "id": "bc14cf5d",
   "metadata": {},
   "outputs": [],
   "source": [
    "#Adatgen függvények\n",
    "\n",
    "def f_bijection(array_of_points):\n",
    "    return array_of_points @ f_transform - 1\n",
    "\n",
    "def gen_features(distribution, size=1, transform=False):\n",
    "    features = rng.normal(**distribution, size=(size,2))\n",
    "    if transform:\n",
    "        return f_bijection(features)\n",
    "    else:\n",
    "        return features\n",
    "    \n",
    "def prep_data(feature_list, label_list):\n",
    "    task = np.zeros([0,3])\n",
    "    for idx, features in enumerate(feature_list):\n",
    "        #print(features, label_list[idx], np.ones([features.shape[0],1]) * label_list[idx])\n",
    "        datapoints = np.concatenate(\n",
    "            [features, \n",
    "             np.ones([features.shape[0],1]) * label_list[idx]], \n",
    "            axis=1)\n",
    "        #print(datapoints)\n",
    "        task = np.concatenate([task, datapoints])\n",
    "        #print(task)\n",
    "    rng.shuffle(task)\n",
    "    return torch.from_numpy(task)"
   ]
  },
  {
   "cell_type": "code",
   "execution_count": 4,
   "id": "8ba70c86",
   "metadata": {},
   "outputs": [],
   "source": [
    "device = \"cuda\" if torch.cuda.is_available() else \"cpu\"\n",
    "#device = \"cpu\""
   ]
  },
  {
   "cell_type": "code",
   "execution_count": 5,
   "id": "3a9c482b",
   "metadata": {},
   "outputs": [],
   "source": [
    "#Adatgenerálás\n",
    "noise1 = gen_features(eps, train_size)\n",
    "noise2 = gen_features(eps, train_size)\n",
    "\n",
    "task1_0 = gen_features(X_0, train_size)\n",
    "task1_1 = gen_features(X_1, train_size)\n",
    "Task1 = prep_data([task1_0, task1_1], [0, 1]).to(device)\n",
    "\n",
    "taskA_0 = gen_features(X_0, train_size, transform=True) + noise1\n",
    "taskA_1 = gen_features(X_1, train_size, transform=True) + noise2\n",
    "TaskA = prep_data([taskA_0, taskA_1], [2, 3]).to(device)\n",
    "\n",
    "taskB_0 = gen_features(X_0, train_size, transform=True) + 10*noise1\n",
    "taskB_1 = gen_features(X_1, train_size, transform=True) + 10*noise2\n",
    "TaskB = prep_data([taskB_0, taskB_1], [2, 3]).to(device)"
   ]
  },
  {
   "cell_type": "code",
   "execution_count": 6,
   "id": "4663aef5",
   "metadata": {},
   "outputs": [],
   "source": [
    "class MockupNetwork(nn.Module):\n",
    "    def __init__(self, num_classes):\n",
    "        super(MockupNetwork, self).__init__()\n",
    "        self.linear_relu_stack = nn.Sequential(\n",
    "            nn.Linear(2, 32),\n",
    "            nn.ReLU(),\n",
    "            nn.Linear(32, 32),\n",
    "            nn.ReLU(),\n",
    "            nn.Linear(32, num_classes),\n",
    "        )\n",
    "        self.softmax = nn.Softmax()\n",
    "\n",
    "    def forward(self, x):\n",
    "        logits = self.linear_relu_stack(x)\n",
    "        probs = self.softmax(logits)\n",
    "        return logits"
   ]
  },
  {
   "cell_type": "code",
   "execution_count": 7,
   "id": "980ee4a4",
   "metadata": {},
   "outputs": [],
   "source": [
    "model = MockupNetwork(4).to(device)\n",
    "loss_fn = nn.CrossEntropyLoss()\n",
    "optimizer = torch.optim.SGD(model.parameters(), lr=1e-3)"
   ]
  },
  {
   "cell_type": "code",
   "execution_count": 8,
   "id": "09b6e45f",
   "metadata": {},
   "outputs": [],
   "source": [
    "def train(data, model, loss_fn, optimizer):\n",
    "    model.train()\n",
    "    num_datapoints = data.shape[0]\n",
    "    for i in range(num_datapoints):\n",
    "        X, y = data[i,:-1], data[i,-1]\n",
    "        X, y = X.to(device), y.to(device)\n",
    "\n",
    "        # Compute prediction error\n",
    "        pred = model(X)\n",
    "        loss = loss_fn(pred, y.long())\n",
    "\n",
    "        # Backpropagation\n",
    "        optimizer.zero_grad()\n",
    "        loss.backward()\n",
    "        optimizer.step()\n",
    "\n",
    "        #if i % 10 == 0:\n",
    "        #    loss, current = loss.item(), i * len(X)\n",
    "        #    print(f\"loss: {loss:>7f}  [{current:>5d}/{size:>5d}]\")"
   ]
  },
  {
   "cell_type": "code",
   "execution_count": 9,
   "id": "a5d515d6",
   "metadata": {},
   "outputs": [],
   "source": [
    "def test(test, model, loss_fn):\n",
    "    num_datapoints = test.shape[0]\n",
    "    model.eval()\n",
    "    test_loss, correct = 0, 0\n",
    "    with torch.no_grad():\n",
    "        for i in range(num_datapoints):\n",
    "            X, y = data[i,:-1], data[i,-1]\n",
    "            X, y = X.to(device), y.to(device)\n",
    "\n",
    "            pred = model(X)\n",
    "            test_loss += loss_fn(pred, y).item()\n",
    "            correct += (pred.argmax(1) == y).type(torch.float)\n",
    "    test_loss /= num_datapoints\n",
    "    print(test_loss, correct)"
   ]
  },
  {
   "cell_type": "code",
   "execution_count": 10,
   "id": "367b8555",
   "metadata": {},
   "outputs": [
    {
     "name": "stderr",
     "output_type": "stream",
     "text": [
      "/tmp/ipykernel_3519544/3638050437.py:15: UserWarning: Implicit dimension choice for softmax has been deprecated. Change the call to include dim=X as an argument.\n",
      "  probs = self.softmax(logits)\n"
     ]
    }
   ],
   "source": [
    "model = model.double()\n",
    "train(Task1, model, loss_fn, optimizer)"
   ]
  },
  {
   "cell_type": "code",
   "execution_count": null,
   "id": "1f86e772",
   "metadata": {},
   "outputs": [],
   "source": []
  }
 ],
 "metadata": {
  "kernelspec": {
   "display_name": "Python 3 (ipykernel)",
   "language": "python",
   "name": "python3"
  },
  "language_info": {
   "codemirror_mode": {
    "name": "ipython",
    "version": 3
   },
   "file_extension": ".py",
   "mimetype": "text/x-python",
   "name": "python",
   "nbconvert_exporter": "python",
   "pygments_lexer": "ipython3",
   "version": "3.9.7"
  }
 },
 "nbformat": 4,
 "nbformat_minor": 5
}
