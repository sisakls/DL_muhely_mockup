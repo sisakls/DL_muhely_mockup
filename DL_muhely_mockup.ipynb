{
 "cells": [
  {
   "cell_type": "code",
   "execution_count": 1,
   "id": "f63b264a",
   "metadata": {},
   "outputs": [],
   "source": [
    "import torch\n",
    "import torch.nn as nn\n",
    "import numpy as np\n",
    "from datasets import Dataset"
   ]
  },
  {
   "cell_type": "code",
   "execution_count": 9,
   "id": "dc6bcc20",
   "metadata": {},
   "outputs": [],
   "source": [
    "rng = np.random.default_rng(seed=2022)\n",
    "\n",
    "num_classes = 4\n",
    "train_size = 50\n",
    "test_size = 10\n",
    "#train_size = train_size+test_size\n",
    "\n",
    "X_0 = {\"loc\":(1,1), \"scale\":1}\n",
    "X_1 = {\"loc\":(-1,1), \"scale\":2}\n",
    "eps = {\"loc\":(0,0), \"scale\":0.2}\n",
    "\n",
    "f_transform = np.array([[ -1,  0],\n",
    "                        [0.5,0.5]])\n",
    "def f_bijection(array_of_points):\n",
    "    return array_of_points @ f_transform - 1\n",
    "\n",
    "#Adatgenerálás\n",
    "#Ezt biztos lehetett volna sokkal elegánsabban\n",
    "noise1 = rng.normal(**eps, size=(train_size,2))\n",
    "noise2 = rng.normal(**eps, size=(train_size,2))\n",
    "\n",
    "Task1_0 = np.concatenate(\n",
    "    [rng.normal(**X_0, size=(train_size,2)), \n",
    "    np.zeros([train_size,1])], \n",
    "    axis=1)\n",
    "Task1_1 = np.concatenate(\n",
    "    [rng.normal(**X_1, size=(train_size,2)), \n",
    "    np.ones([train_size,1])], \n",
    "    axis=1)\n",
    "Task1 = np.concatenate([Task1_0, Task1_1])\n",
    "rng.shuffle(Task1)\n",
    "Task1 = torch.from_numpy(Task1).double()\n",
    "\n",
    "TaskA_0 = np.concatenate(\n",
    "    [f_bijection(rng.normal(**X_0, size=(train_size,2))) + noise1, \n",
    "    2*np.ones([train_size,1])], \n",
    "    axis=1)\n",
    "TaskA_1 = np.concatenate(\n",
    "    [f_bijection(rng.normal(**X_1, size=(train_size,2))) + noise2, \n",
    "    3*np.ones([train_size,1])], \n",
    "    axis=1)\n",
    "TaskA = np.concatenate([TaskA_0, TaskA_1])\n",
    "rng.shuffle(TaskA)\n",
    "TaskA = torch.from_numpy(TaskA).double()\n",
    "\n",
    "TaskB_0 = np.concatenate(\n",
    "    [f_bijection(rng.normal(**X_0, size=(train_size,2))) + 10*noise1, \n",
    "    2*np.ones([train_size,1])], \n",
    "    axis=1)\n",
    "TaskB_1 = np.concatenate(\n",
    "    [f_bijection(rng.normal(**X_1, size=(train_size,2))) + 10*noise2, \n",
    "    3*np.ones([train_size,1])], \n",
    "    axis=1)\n",
    "TaskB = np.concatenate([TaskB_0, TaskB_1])\n",
    "rng.shuffle(TaskB)\n",
    "TaskB = torch.from_numpy(TaskB).double()"
   ]
  },
  {
   "cell_type": "code",
   "execution_count": 10,
   "id": "8ba70c86",
   "metadata": {},
   "outputs": [],
   "source": [
    "device = \"cuda\" if torch.cuda.is_available() else \"cpu\"\n",
    "#device = \"cpu\""
   ]
  },
  {
   "cell_type": "code",
   "execution_count": 11,
   "id": "4663aef5",
   "metadata": {},
   "outputs": [],
   "source": [
    "class MockupNetwork(nn.Module):\n",
    "    def __init__(self, num_classes):\n",
    "        super(MockupNetwork, self).__init__()\n",
    "        self.linear_relu_stack = nn.Sequential(\n",
    "            nn.Linear(2, 32),\n",
    "            nn.ReLU(),\n",
    "            nn.Linear(32, 32),\n",
    "            nn.ReLU(),\n",
    "            nn.Linear(32, num_classes),\n",
    "        )\n",
    "        #self.softmax = nn.Softmax()\n",
    "\n",
    "    def forward(self, x):\n",
    "        logits = self.linear_relu_stack(x)\n",
    "        #probabilities = self.softmax(logits)\n",
    "        return logits"
   ]
  },
  {
   "cell_type": "code",
   "execution_count": 12,
   "id": "980ee4a4",
   "metadata": {},
   "outputs": [],
   "source": [
    "model = MockupNetwork(num_classes).to(device)\n",
    "loss_fn = nn.CrossEntropyLoss()\n",
    "optimizer = torch.optim.SGD(model.parameters(), lr=1e-3)"
   ]
  },
  {
   "cell_type": "code",
   "execution_count": 16,
   "id": "09b6e45f",
   "metadata": {},
   "outputs": [],
   "source": [
    "def train(data, model, loss_fn, optimizer):\n",
    "    model.train()\n",
    "    num_datapoints = data.shape[0]\n",
    "    for i in range(num_datapoints):\n",
    "        X, y = data[i,:-1], data[i,-1]\n",
    "        X, y = X.to(device), y.to(device)\n",
    "\n",
    "        # Compute prediction error\n",
    "        pred = model(X)\n",
    "        print(pred, y)\n",
    "        loss = loss_fn(torch.tensor([pred, num_classes]), y)\n",
    "\n",
    "        # Backpropagation\n",
    "        optimizer.zero_grad()\n",
    "        loss.backward()\n",
    "        optimizer.step()\n",
    "\n",
    "        #if i % 10 == 0:\n",
    "        #    loss, current = loss.item(), i * len(X)\n",
    "        #    print(f\"loss: {loss:>7f}  [{current:>5d}/{size:>5d}]\")"
   ]
  },
  {
   "cell_type": "code",
   "execution_count": 17,
   "id": "a5d515d6",
   "metadata": {},
   "outputs": [
    {
     "ename": "SyntaxError",
     "evalue": "invalid syntax (<ipython-input-17-1750b57105a5>, line 12)",
     "output_type": "error",
     "traceback": [
      "\u001b[1;36m  File \u001b[1;32m\"<ipython-input-17-1750b57105a5>\"\u001b[1;36m, line \u001b[1;32m12\u001b[0m\n\u001b[1;33m    correct += (pred.argmax(1) == y).type(torch.float)\u001b[0m\n\u001b[1;37m    ^\u001b[0m\n\u001b[1;31mSyntaxError\u001b[0m\u001b[1;31m:\u001b[0m invalid syntax\n"
     ]
    }
   ],
   "source": [
    "def test(test, model, loss_fn):\n",
    "    num_datapoints = test.shape[0]\n",
    "    model.eval()\n",
    "    test_loss, correct = 0, 0\n",
    "    with torch.no_grad():\n",
    "        for i in range(num_datapoints):\n",
    "            X, y = data[i,:-1], data[i,-1]\n",
    "            X, y = X.to(device), y.to(device)\n",
    "\n",
    "            pred = model(X)\n",
    "            test_loss += loss_fn((pred, num, y).item()\n",
    "            correct += (pred.argmax(1) == y).type(torch.float)\n",
    "    test_loss /= num_datapoints\n",
    "    print(test_loss, correct)"
   ]
  },
  {
   "cell_type": "code",
   "execution_count": 18,
   "id": "367b8555",
   "metadata": {},
   "outputs": [
    {
     "name": "stdout",
     "output_type": "stream",
     "text": [
      "tensor([0.0268, 0.2768, 0.1357, 0.3560], dtype=torch.float64,\n",
      "       grad_fn=<AddBackward0>) tensor(1., dtype=torch.float64)\n"
     ]
    },
    {
     "ename": "ValueError",
     "evalue": "only one element tensors can be converted to Python scalars",
     "output_type": "error",
     "traceback": [
      "\u001b[1;31m---------------------------------------------------------------------------\u001b[0m",
      "\u001b[1;31mValueError\u001b[0m                                Traceback (most recent call last)",
      "\u001b[1;32m<ipython-input-18-f2fcbaa103ee>\u001b[0m in \u001b[0;36m<module>\u001b[1;34m\u001b[0m\n\u001b[0;32m      1\u001b[0m \u001b[0mmodel\u001b[0m \u001b[1;33m=\u001b[0m \u001b[0mmodel\u001b[0m\u001b[1;33m.\u001b[0m\u001b[0mdouble\u001b[0m\u001b[1;33m(\u001b[0m\u001b[1;33m)\u001b[0m\u001b[1;33m\u001b[0m\u001b[1;33m\u001b[0m\u001b[0m\n\u001b[1;32m----> 2\u001b[1;33m \u001b[0mtrain\u001b[0m\u001b[1;33m(\u001b[0m\u001b[0mTask1\u001b[0m\u001b[1;33m,\u001b[0m \u001b[0mmodel\u001b[0m\u001b[1;33m,\u001b[0m \u001b[0mloss_fn\u001b[0m\u001b[1;33m,\u001b[0m \u001b[0moptimizer\u001b[0m\u001b[1;33m)\u001b[0m\u001b[1;33m\u001b[0m\u001b[1;33m\u001b[0m\u001b[0m\n\u001b[0m",
      "\u001b[1;32m<ipython-input-16-ac21d20f2d96>\u001b[0m in \u001b[0;36mtrain\u001b[1;34m(data, model, loss_fn, optimizer)\u001b[0m\n\u001b[0;32m      9\u001b[0m         \u001b[0mpred\u001b[0m \u001b[1;33m=\u001b[0m \u001b[0mmodel\u001b[0m\u001b[1;33m(\u001b[0m\u001b[0mX\u001b[0m\u001b[1;33m)\u001b[0m\u001b[1;33m\u001b[0m\u001b[1;33m\u001b[0m\u001b[0m\n\u001b[0;32m     10\u001b[0m         \u001b[0mprint\u001b[0m\u001b[1;33m(\u001b[0m\u001b[0mpred\u001b[0m\u001b[1;33m,\u001b[0m \u001b[0my\u001b[0m\u001b[1;33m)\u001b[0m\u001b[1;33m\u001b[0m\u001b[1;33m\u001b[0m\u001b[0m\n\u001b[1;32m---> 11\u001b[1;33m         \u001b[0mloss\u001b[0m \u001b[1;33m=\u001b[0m \u001b[0mloss_fn\u001b[0m\u001b[1;33m(\u001b[0m\u001b[0mtorch\u001b[0m\u001b[1;33m.\u001b[0m\u001b[0mtensor\u001b[0m\u001b[1;33m(\u001b[0m\u001b[1;33m[\u001b[0m\u001b[0mpred\u001b[0m\u001b[1;33m,\u001b[0m \u001b[0mnum_classes\u001b[0m\u001b[1;33m]\u001b[0m\u001b[1;33m)\u001b[0m\u001b[1;33m,\u001b[0m \u001b[0my\u001b[0m\u001b[1;33m)\u001b[0m\u001b[1;33m\u001b[0m\u001b[1;33m\u001b[0m\u001b[0m\n\u001b[0m\u001b[0;32m     12\u001b[0m \u001b[1;33m\u001b[0m\u001b[0m\n\u001b[0;32m     13\u001b[0m         \u001b[1;31m# Backpropagation\u001b[0m\u001b[1;33m\u001b[0m\u001b[1;33m\u001b[0m\u001b[1;33m\u001b[0m\u001b[0m\n",
      "\u001b[1;31mValueError\u001b[0m: only one element tensors can be converted to Python scalars"
     ]
    }
   ],
   "source": [
    "model = model.double()\n",
    "train(Task1, model, loss_fn, optimizer)"
   ]
  },
  {
   "cell_type": "code",
   "execution_count": null,
   "id": "7326582a",
   "metadata": {},
   "outputs": [],
   "source": [
    "beb = np.array([[1.2, 1.3],\n",
    "                [0, 4]])\n",
    "beb = torch.tensor(beb, dtype=torch.double)"
   ]
  },
  {
   "cell_type": "code",
   "execution_count": null,
   "id": "96f74714",
   "metadata": {},
   "outputs": [],
   "source": [
    "Task1"
   ]
  },
  {
   "cell_type": "code",
   "execution_count": null,
   "id": "c1d73613",
   "metadata": {},
   "outputs": [],
   "source": []
  }
 ],
 "metadata": {
  "kernelspec": {
   "display_name": "Python 3",
   "language": "python",
   "name": "python3"
  },
  "language_info": {
   "codemirror_mode": {
    "name": "ipython",
    "version": 3
   },
   "file_extension": ".py",
   "mimetype": "text/x-python",
   "name": "python",
   "nbconvert_exporter": "python",
   "pygments_lexer": "ipython3",
   "version": "3.8.8"
  }
 },
 "nbformat": 4,
 "nbformat_minor": 5
}
