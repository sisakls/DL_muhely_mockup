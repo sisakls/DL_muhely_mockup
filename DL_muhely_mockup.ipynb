{
 "cells": [
  {
   "cell_type": "code",
   "execution_count": 1,
   "id": "f63b264a",
   "metadata": {},
   "outputs": [],
   "source": [
    "import torch\n",
    "import torch.nn as nn\n",
    "import numpy as np\n",
    "from datasets import Dataset"
   ]
  },
  {
   "cell_type": "code",
   "execution_count": 2,
   "id": "91fb6166",
   "metadata": {},
   "outputs": [],
   "source": [
    "rng = np.random.default_rng(seed=2022)\n",
    "train_size = 50\n",
    "test_size = 10\n",
    "#train_size = train_size+test_size\n",
    "\n",
    "X_0 = {\"loc\":(1,1), \"scale\":1}\n",
    "X_1 = {\"loc\":(-1,1), \"scale\":2}\n",
    "eps = {\"loc\":(0,0), \"scale\":0.2}\n",
    "\n",
    "f_transform = np.array([[ -1,  0],\n",
    "                        [0.5,0.5]])\n",
    "\n",
    "#device = \"cuda\" if torch.cuda.is_available() else \"cpu\"\n",
    "device = \"cpu\""
   ]
  },
  {
   "cell_type": "code",
   "execution_count": 4,
   "id": "bc14cf5d",
   "metadata": {},
   "outputs": [],
   "source": [
    "#Adatgen függvények\n",
    "\n",
    "def f_bijection(array_of_points):\n",
    "    return array_of_points @ f_transform - 1\n",
    "\n",
    "def gen_features(distribution, size=1, transform=False):\n",
    "    features = rng.normal(**distribution, size=(size,2))\n",
    "    if transform:\n",
    "        return f_bijection(features)\n",
    "    else:\n",
    "        return features\n",
    "    \n",
    "def prep_data(feature_list, label_list):\n",
    "    task = np.zeros([0,3])\n",
    "    for idx, features in enumerate(feature_list):\n",
    "        #print(features, label_list[idx], np.ones([features.shape[0],1]) * label_list[idx])\n",
    "        datapoints = np.concatenate(\n",
    "            [features, \n",
    "             np.ones([features.shape[0],1]) * label_list[idx]], \n",
    "            axis=1)\n",
    "        #print(datapoints)\n",
    "        task = np.concatenate([task, datapoints])\n",
    "        #print(task)\n",
    "    rng.shuffle(task)\n",
    "    return torch.from_numpy(task)"
   ]
  },
  {
   "cell_type": "code",
   "execution_count": 12,
   "id": "3a9c482b",
   "metadata": {},
   "outputs": [],
   "source": [
    "#Adatgenerálás\n",
    "noise1 = gen_features(eps, train_size)\n",
    "noise2 = gen_features(eps, train_size)\n",
    "\n",
    "task1_0 = gen_features(X_0, train_size)\n",
    "task1_1 = gen_features(X_1, train_size)\n",
    "Task1 = prep_data([task1_0, task1_1], [0, 1]).to(device)\n",
    "\n",
    "taskA_0 = gen_features(X_0, train_size, transform=True) + noise1\n",
    "taskA_1 = gen_features(X_1, train_size, transform=True) + noise2\n",
    "TaskA = prep_data([taskA_0, taskA_1], [2, 3]).to(device)\n",
    "\n",
    "taskB_0 = gen_features(X_0, train_size, transform=True) + 10*noise1\n",
    "taskB_1 = gen_features(X_1, train_size, transform=True) + 10*noise2\n",
    "TaskB = prep_data([taskB_0, taskB_1], [2, 3]).to(device)"
   ]
  },
  {
   "cell_type": "code",
   "execution_count": 5,
   "id": "dc6bcc20",
   "metadata": {},
   "outputs": [],
   "source": [
    "\n",
    "\n",
    "#Adatgenerálás\n",
    "#Ezt biztos lehetett volna sokkal elegánsabban\n",
    "noise1 = rng.normal(**eps, size=(train_size,2))\n",
    "noise2 = rng.normal(**eps, size=(train_size,2))\n",
    "\n",
    "Task1_0 = np.concatenate(\n",
    "    [rng.normal(**X_0, size=(train_size,2)), \n",
    "    np.zeros([train_size,1])], \n",
    "    axis=1)\n",
    "Task1_1 = np.concatenate(\n",
    "    [rng.normal(**X_1, size=(train_size,2)), \n",
    "    np.ones([train_size,1])], \n",
    "    axis=1)\n",
    "Task1 = np.concatenate([Task1_0, Task1_1])\n",
    "rng.shuffle(Task1)\n",
    "Task1 = torch.from_numpy(Task1)\n",
    "\n",
    "TaskA_0 = np.concatenate(\n",
    "    [f_bijection(rng.normal(**X_0, size=(train_size,2))) + noise1, \n",
    "    2*np.ones([train_size,1])], \n",
    "    axis=1)\n",
    "TaskA_1 = np.concatenate(\n",
    "    [f_bijection(rng.normal(**X_1, size=(train_size,2))) + noise2, \n",
    "    3*np.ones([train_size,1])], \n",
    "    axis=1)\n",
    "TaskA = np.concatenate([TaskA_0, TaskA_1])\n",
    "rng.shuffle(TaskA)\n",
    "TaskA = torch.from_numpy(TaskA)\n",
    "\n",
    "TaskB_0 = np.concatenate(\n",
    "    [f_bijection(rng.normal(**X_0, size=(train_size,2))) + 10*noise1, \n",
    "    2*np.ones([train_size,1])], \n",
    "    axis=1)\n",
    "TaskB_1 = np.concatenate(\n",
    "    [f_bijection(rng.normal(**X_1, size=(train_size,2))) + 10*noise2, \n",
    "    3*np.ones([train_size,1])], \n",
    "    axis=1)\n",
    "TaskB = np.concatenate([TaskB_0, TaskB_1])\n",
    "rng.shuffle(TaskB)\n",
    "TaskB = torch.from_numpy(TaskB)"
   ]
  },
  {
   "cell_type": "code",
   "execution_count": 3,
   "id": "8ba70c86",
   "metadata": {},
   "outputs": [],
   "source": [
    "device = \"cuda\" if torch.cuda.is_available() else \"cpu\"\n",
    "#device = \"cpu\""
   ]
  },
  {
   "cell_type": "code",
   "execution_count": 6,
   "id": "4663aef5",
   "metadata": {},
   "outputs": [],
   "source": [
    "class MockupNetwork(nn.Module):\n",
    "    def __init__(self, num_classes):\n",
    "        super(MockupNetwork, self).__init__()\n",
    "        self.linear_relu_stack = nn.Sequential(\n",
    "            nn.Linear(2, 32),\n",
    "            nn.ReLU(),\n",
    "            nn.Linear(32, 32),\n",
    "            nn.ReLU(),\n",
    "            nn.Linear(32, num_classes),\n",
    "        )\n",
    "        self.softmax = nn.Softmax()\n",
    "\n",
    "    def forward(self, x):\n",
    "        logits = self.linear_relu_stack(x)\n",
    "        probabilities = self.softmax(logits)\n",
    "        return probabilities"
   ]
  },
  {
   "cell_type": "code",
   "execution_count": 7,
   "id": "980ee4a4",
   "metadata": {},
   "outputs": [],
   "source": [
    "model = MockupNetwork(4).to(device)\n",
    "loss_fn = nn.CrossEntropyLoss()\n",
    "optimizer = torch.optim.SGD(model.parameters(), lr=1e-3)"
   ]
  },
  {
   "cell_type": "code",
   "execution_count": 17,
   "id": "09b6e45f",
   "metadata": {},
   "outputs": [],
   "source": [
    "def train(data, model, loss_fn, optimizer):\n",
    "    model.train()\n",
    "    num_datapoints = data.shape[0]\n",
    "    for i in range(num_datapoints):\n",
    "        X, y = data[i,:-1], data[i,-1]\n",
    "        X, y = X.to(device), y.to(device)\n",
    "\n",
    "        # Compute prediction error\n",
    "        pred = model(X).argmax()\n",
    "        print(pred, y)\n",
    "        loss = loss_fn(pred, y)\n",
    "\n",
    "        # Backpropagation\n",
    "        optimizer.zero_grad()\n",
    "        loss.backward()\n",
    "        optimizer.step()\n",
    "\n",
    "        #if i % 10 == 0:\n",
    "        #    loss, current = loss.item(), i * len(X)\n",
    "        #    print(f\"loss: {loss:>7f}  [{current:>5d}/{size:>5d}]\")"
   ]
  },
  {
   "cell_type": "code",
   "execution_count": 18,
   "id": "a5d515d6",
   "metadata": {},
   "outputs": [],
   "source": [
    "def test(test, model, loss_fn):\n",
    "    num_datapoints = test.shape[0]\n",
    "    model.eval()\n",
    "    test_loss, correct = 0, 0\n",
    "    with torch.no_grad():\n",
    "        for i in range(num_datapoints):\n",
    "            X, y = data[i,:-1], data[i,-1]\n",
    "            X, y = X.to(device), y.to(device)\n",
    "\n",
    "            pred = model(X)\n",
    "            test_loss += loss_fn(pred, y).item()\n",
    "            correct += (pred.argmax(1) == y).type(torch.float)\n",
    "    test_loss /= num_datapoints\n",
    "    print(test_loss, correct)"
   ]
  },
  {
   "cell_type": "code",
   "execution_count": 19,
   "id": "367b8555",
   "metadata": {},
   "outputs": [
    {
     "name": "stdout",
     "output_type": "stream",
     "text": [
      "tensor(0) tensor(1., dtype=torch.float64)\n"
     ]
    },
    {
     "name": "stderr",
     "output_type": "stream",
     "text": [
      "/tmp/ipykernel_3518416/964358007.py:15: UserWarning: Implicit dimension choice for softmax has been deprecated. Change the call to include dim=X as an argument.\n",
      "  probabilities = self.softmax(logits)\n"
     ]
    },
    {
     "ename": "IndexError",
     "evalue": "dimension specified as 1 but tensor has no dimensions",
     "output_type": "error",
     "traceback": [
      "\u001b[0;31m---------------------------------------------------------------------------\u001b[0m",
      "\u001b[0;31mIndexError\u001b[0m                                Traceback (most recent call last)",
      "Input \u001b[0;32mIn [19]\u001b[0m, in \u001b[0;36m<cell line: 2>\u001b[0;34m()\u001b[0m\n\u001b[1;32m      1\u001b[0m model \u001b[38;5;241m=\u001b[39m model\u001b[38;5;241m.\u001b[39mdouble()\n\u001b[0;32m----> 2\u001b[0m \u001b[43mtrain\u001b[49m\u001b[43m(\u001b[49m\u001b[43mTask1\u001b[49m\u001b[43m,\u001b[49m\u001b[43m \u001b[49m\u001b[43mmodel\u001b[49m\u001b[43m,\u001b[49m\u001b[43m \u001b[49m\u001b[43mloss_fn\u001b[49m\u001b[43m,\u001b[49m\u001b[43m \u001b[49m\u001b[43moptimizer\u001b[49m\u001b[43m)\u001b[49m\n",
      "Input \u001b[0;32mIn [17]\u001b[0m, in \u001b[0;36mtrain\u001b[0;34m(data, model, loss_fn, optimizer)\u001b[0m\n\u001b[1;32m      9\u001b[0m pred \u001b[38;5;241m=\u001b[39m model(X)\u001b[38;5;241m.\u001b[39margmax()\n\u001b[1;32m     10\u001b[0m \u001b[38;5;28mprint\u001b[39m(pred, y)\n\u001b[0;32m---> 11\u001b[0m loss \u001b[38;5;241m=\u001b[39m \u001b[43mloss_fn\u001b[49m\u001b[43m(\u001b[49m\u001b[43mpred\u001b[49m\u001b[43m,\u001b[49m\u001b[43m \u001b[49m\u001b[43my\u001b[49m\u001b[43m)\u001b[49m\n\u001b[1;32m     13\u001b[0m \u001b[38;5;66;03m# Backpropagation\u001b[39;00m\n\u001b[1;32m     14\u001b[0m optimizer\u001b[38;5;241m.\u001b[39mzero_grad()\n",
      "File \u001b[0;32m~/miniconda3/lib/python3.9/site-packages/torch/nn/modules/module.py:1110\u001b[0m, in \u001b[0;36mModule._call_impl\u001b[0;34m(self, *input, **kwargs)\u001b[0m\n\u001b[1;32m   1106\u001b[0m \u001b[38;5;66;03m# If we don't have any hooks, we want to skip the rest of the logic in\u001b[39;00m\n\u001b[1;32m   1107\u001b[0m \u001b[38;5;66;03m# this function, and just call forward.\u001b[39;00m\n\u001b[1;32m   1108\u001b[0m \u001b[38;5;28;01mif\u001b[39;00m \u001b[38;5;129;01mnot\u001b[39;00m (\u001b[38;5;28mself\u001b[39m\u001b[38;5;241m.\u001b[39m_backward_hooks \u001b[38;5;129;01mor\u001b[39;00m \u001b[38;5;28mself\u001b[39m\u001b[38;5;241m.\u001b[39m_forward_hooks \u001b[38;5;129;01mor\u001b[39;00m \u001b[38;5;28mself\u001b[39m\u001b[38;5;241m.\u001b[39m_forward_pre_hooks \u001b[38;5;129;01mor\u001b[39;00m _global_backward_hooks\n\u001b[1;32m   1109\u001b[0m         \u001b[38;5;129;01mor\u001b[39;00m _global_forward_hooks \u001b[38;5;129;01mor\u001b[39;00m _global_forward_pre_hooks):\n\u001b[0;32m-> 1110\u001b[0m     \u001b[38;5;28;01mreturn\u001b[39;00m \u001b[43mforward_call\u001b[49m\u001b[43m(\u001b[49m\u001b[38;5;241;43m*\u001b[39;49m\u001b[38;5;28;43minput\u001b[39;49m\u001b[43m,\u001b[49m\u001b[43m \u001b[49m\u001b[38;5;241;43m*\u001b[39;49m\u001b[38;5;241;43m*\u001b[39;49m\u001b[43mkwargs\u001b[49m\u001b[43m)\u001b[49m\n\u001b[1;32m   1111\u001b[0m \u001b[38;5;66;03m# Do not call functions when jit is used\u001b[39;00m\n\u001b[1;32m   1112\u001b[0m full_backward_hooks, non_full_backward_hooks \u001b[38;5;241m=\u001b[39m [], []\n",
      "File \u001b[0;32m~/miniconda3/lib/python3.9/site-packages/torch/nn/modules/loss.py:1163\u001b[0m, in \u001b[0;36mCrossEntropyLoss.forward\u001b[0;34m(self, input, target)\u001b[0m\n\u001b[1;32m   1162\u001b[0m \u001b[38;5;28;01mdef\u001b[39;00m \u001b[38;5;21mforward\u001b[39m(\u001b[38;5;28mself\u001b[39m, \u001b[38;5;28minput\u001b[39m: Tensor, target: Tensor) \u001b[38;5;241m-\u001b[39m\u001b[38;5;241m>\u001b[39m Tensor:\n\u001b[0;32m-> 1163\u001b[0m     \u001b[38;5;28;01mreturn\u001b[39;00m \u001b[43mF\u001b[49m\u001b[38;5;241;43m.\u001b[39;49m\u001b[43mcross_entropy\u001b[49m\u001b[43m(\u001b[49m\u001b[38;5;28;43minput\u001b[39;49m\u001b[43m,\u001b[49m\u001b[43m \u001b[49m\u001b[43mtarget\u001b[49m\u001b[43m,\u001b[49m\u001b[43m \u001b[49m\u001b[43mweight\u001b[49m\u001b[38;5;241;43m=\u001b[39;49m\u001b[38;5;28;43mself\u001b[39;49m\u001b[38;5;241;43m.\u001b[39;49m\u001b[43mweight\u001b[49m\u001b[43m,\u001b[49m\n\u001b[1;32m   1164\u001b[0m \u001b[43m                           \u001b[49m\u001b[43mignore_index\u001b[49m\u001b[38;5;241;43m=\u001b[39;49m\u001b[38;5;28;43mself\u001b[39;49m\u001b[38;5;241;43m.\u001b[39;49m\u001b[43mignore_index\u001b[49m\u001b[43m,\u001b[49m\u001b[43m \u001b[49m\u001b[43mreduction\u001b[49m\u001b[38;5;241;43m=\u001b[39;49m\u001b[38;5;28;43mself\u001b[39;49m\u001b[38;5;241;43m.\u001b[39;49m\u001b[43mreduction\u001b[49m\u001b[43m,\u001b[49m\n\u001b[1;32m   1165\u001b[0m \u001b[43m                           \u001b[49m\u001b[43mlabel_smoothing\u001b[49m\u001b[38;5;241;43m=\u001b[39;49m\u001b[38;5;28;43mself\u001b[39;49m\u001b[38;5;241;43m.\u001b[39;49m\u001b[43mlabel_smoothing\u001b[49m\u001b[43m)\u001b[49m\n",
      "File \u001b[0;32m~/miniconda3/lib/python3.9/site-packages/torch/nn/functional.py:2996\u001b[0m, in \u001b[0;36mcross_entropy\u001b[0;34m(input, target, weight, size_average, ignore_index, reduce, reduction, label_smoothing)\u001b[0m\n\u001b[1;32m   2994\u001b[0m \u001b[38;5;28;01mif\u001b[39;00m size_average \u001b[38;5;129;01mis\u001b[39;00m \u001b[38;5;129;01mnot\u001b[39;00m \u001b[38;5;28;01mNone\u001b[39;00m \u001b[38;5;129;01mor\u001b[39;00m reduce \u001b[38;5;129;01mis\u001b[39;00m \u001b[38;5;129;01mnot\u001b[39;00m \u001b[38;5;28;01mNone\u001b[39;00m:\n\u001b[1;32m   2995\u001b[0m     reduction \u001b[38;5;241m=\u001b[39m _Reduction\u001b[38;5;241m.\u001b[39mlegacy_get_string(size_average, reduce)\n\u001b[0;32m-> 2996\u001b[0m \u001b[38;5;28;01mreturn\u001b[39;00m \u001b[43mtorch\u001b[49m\u001b[38;5;241;43m.\u001b[39;49m\u001b[43m_C\u001b[49m\u001b[38;5;241;43m.\u001b[39;49m\u001b[43m_nn\u001b[49m\u001b[38;5;241;43m.\u001b[39;49m\u001b[43mcross_entropy_loss\u001b[49m\u001b[43m(\u001b[49m\u001b[38;5;28;43minput\u001b[39;49m\u001b[43m,\u001b[49m\u001b[43m \u001b[49m\u001b[43mtarget\u001b[49m\u001b[43m,\u001b[49m\u001b[43m \u001b[49m\u001b[43mweight\u001b[49m\u001b[43m,\u001b[49m\u001b[43m \u001b[49m\u001b[43m_Reduction\u001b[49m\u001b[38;5;241;43m.\u001b[39;49m\u001b[43mget_enum\u001b[49m\u001b[43m(\u001b[49m\u001b[43mreduction\u001b[49m\u001b[43m)\u001b[49m\u001b[43m,\u001b[49m\u001b[43m \u001b[49m\u001b[43mignore_index\u001b[49m\u001b[43m,\u001b[49m\u001b[43m \u001b[49m\u001b[43mlabel_smoothing\u001b[49m\u001b[43m)\u001b[49m\n",
      "\u001b[0;31mIndexError\u001b[0m: dimension specified as 1 but tensor has no dimensions"
     ]
    }
   ],
   "source": [
    "model = model.double()\n",
    "train(Task1, model, loss_fn, optimizer)"
   ]
  },
  {
   "cell_type": "code",
   "execution_count": null,
   "id": "96f74714",
   "metadata": {},
   "outputs": [],
   "source": []
  }
 ],
 "metadata": {
  "kernelspec": {
   "display_name": "Python 3 (ipykernel)",
   "language": "python",
   "name": "python3"
  },
  "language_info": {
   "codemirror_mode": {
    "name": "ipython",
    "version": 3
   },
   "file_extension": ".py",
   "mimetype": "text/x-python",
   "name": "python",
   "nbconvert_exporter": "python",
   "pygments_lexer": "ipython3",
   "version": "3.9.7"
  }
 },
 "nbformat": 4,
 "nbformat_minor": 5
}
